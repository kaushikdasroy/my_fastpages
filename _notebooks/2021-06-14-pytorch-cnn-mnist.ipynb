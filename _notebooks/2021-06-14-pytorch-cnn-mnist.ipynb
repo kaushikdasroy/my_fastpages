{
 "cells": [
  {
   "cell_type": "markdown",
   "id": "bb4194b2",
   "metadata": {},
   "source": [
    "# \"Neural Network to recognize MNIST dataset using PyTorch\"\n",
    "> \"Step by step process to use neural network to recognize MINST handwritten numbers\"\n",
    "\n",
    "- toc: false\n",
    "- branch: master\n",
    "- badges: true\n",
    "- comments: true\n",
    "- categories: [pytorch, jupyter]\n",
    "- hide: false\n",
    "- search_exclude: true\n"
   ]
  }
 ],
 "metadata": {
  "kernelspec": {
   "display_name": "conda_pytorch_p36",
   "language": "python",
   "name": "conda_pytorch_p36"
  },
  "language_info": {
   "codemirror_mode": {
    "name": "ipython",
    "version": 3
   },
   "file_extension": ".py",
   "mimetype": "text/x-python",
   "name": "python",
   "nbconvert_exporter": "python",
   "pygments_lexer": "ipython3",
   "version": "3.6.13"
  }
 },
 "nbformat": 4,
 "nbformat_minor": 5
}
