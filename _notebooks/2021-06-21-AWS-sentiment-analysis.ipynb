{
 "cells": [
  {
   "cell_type": "markdown",
   "id": "b7332a2b",
   "metadata": {},
   "source": [
    "# \"Deploy Machine Learning Models as Serverless APIs\"\n",
    "> \"Test a sentiment analysis model results served by AWS Lambda function\"\n",
    "\n",
    "- toc: false\n",
    "- branch: master\n",
    "- badges: false\n",
    "- comments: true\n",
    "- categories: [AWS]\n",
    "- hide: false\n",
    "- search_exclude: true"
   ]
  },
  {
   "cell_type": "markdown",
   "id": "ec8c028f",
   "metadata": {},
   "source": [
    "###\n",
    "Please try this [link](https://d23ctq0oemlku9.cloudfront.net/) to test the model delivered through AWS Cloudfront."
   ]
  }
 ],
 "metadata": {
  "kernelspec": {
   "display_name": "conda_pytorch_p36",
   "language": "python",
   "name": "conda_pytorch_p36"
  },
  "language_info": {
   "codemirror_mode": {
    "name": "ipython",
    "version": 3
   },
   "file_extension": ".py",
   "mimetype": "text/x-python",
   "name": "python",
   "nbconvert_exporter": "python",
   "pygments_lexer": "ipython3",
   "version": "3.6.13"
  }
 },
 "nbformat": 4,
 "nbformat_minor": 5
}
